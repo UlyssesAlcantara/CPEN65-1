{
  "nbformat": 4,
  "nbformat_minor": 0,
  "metadata": {
    "colab": {
      "provenance": [],
      "authorship_tag": "ABX9TyMv1dcafsgIfd5cvPWCDxtL",
      "include_colab_link": true
    },
    "kernelspec": {
      "name": "python3",
      "display_name": "Python 3"
    },
    "language_info": {
      "name": "python"
    }
  },
  "cells": [
    {
      "cell_type": "markdown",
      "metadata": {
        "id": "view-in-github",
        "colab_type": "text"
      },
      "source": [
        "<a href=\"https://colab.research.google.com/github/UlyssesAlcantara/CPEN65-1/blob/main/Alcantara%2CUlysses_Midterm_Exam.ipynb\" target=\"_parent\"><img src=\"https://colab.research.google.com/assets/colab-badge.svg\" alt=\"Open In Colab\"/></a>"
      ]
    },
    {
      "cell_type": "markdown",
      "source": [
        "# 1. Write a Python program to create an array of 10 integers and display the array items. Access individual elements through indexes and compute for the sum."
      ],
      "metadata": {
        "id": "6LwEBsXgHNlO"
      }
    },
    {
      "cell_type": "code",
      "source": [
        "from array import*\n",
        "\n",
        "arr = array(\"I\",[0,1,2,3,4,5,6,7,8,9])\n",
        "print(arr)\n",
        "\n",
        "print(arr[0])\n",
        "print(arr[1])\n",
        "print(arr[2])\n",
        "print(arr[3])\n",
        "print(arr[4])\n",
        "print(arr[5])\n",
        "print(arr[6])\n",
        "print(arr[7])\n",
        "print(arr[8])\n",
        "print(arr[9])\n",
        "\n",
        "\n",
        "print(sum(arr))"
      ],
      "metadata": {
        "colab": {
          "base_uri": "https://localhost:8080/"
        },
        "id": "OhUc5mv-HT8t",
        "outputId": "60eb9e63-b897-4e48-d475-9db3a62a4bcb"
      },
      "execution_count": 23,
      "outputs": [
        {
          "output_type": "stream",
          "name": "stdout",
          "text": [
            "array('I', [0, 1, 2, 3, 4, 5, 6, 7, 8, 9])\n",
            "0\n",
            "1\n",
            "2\n",
            "3\n",
            "4\n",
            "5\n",
            "6\n",
            "7\n",
            "8\n",
            "9\n",
            "45\n"
          ]
        }
      ]
    },
    {
      "cell_type": "markdown",
      "source": [
        "# 2. Write a Python program to append a new item to the end of the array. Original array: numbers = [1, 2, 3, 4, 5, 6, 7, 8, 9, 10]\n"
      ],
      "metadata": {
        "id": "qIpsczW5HdRf"
      }
    },
    {
      "cell_type": "code",
      "source": [
        "Numbers = [\"1\",\"2\",\"3\",\"4\",\"5\",\"6\",\"7\",\"8\",\"9\",\"10\"]\n",
        "Numbers.append(\"11\")\n",
        "print(Numbers)"
      ],
      "metadata": {
        "colab": {
          "base_uri": "https://localhost:8080/"
        },
        "id": "ASIz3gecHg--",
        "outputId": "df62e254-fe0f-4de1-f7d8-4fc653c7aa85"
      },
      "execution_count": 4,
      "outputs": [
        {
          "output_type": "stream",
          "name": "stdout",
          "text": [
            "['1', '2', '3', '4', '5', '6', '7', '8', '9', '10', '11']\n"
          ]
        }
      ]
    },
    {
      "cell_type": "markdown",
      "source": [
        "# 3. Write a Python program to insert a new item before the last element in an existing array. Original array: numbers = [1, 2, 3, 4, 5, 6, 7, 8, 9, 10]\n"
      ],
      "metadata": {
        "id": "a0EjcO7zHh5G"
      }
    },
    {
      "cell_type": "code",
      "source": [
        "Numbers = [1,2,3,4,5,6,7,8,9,10]\n",
        "Numbers.insert(9,11)\n",
        "print(Numbers)"
      ],
      "metadata": {
        "colab": {
          "base_uri": "https://localhost:8080/"
        },
        "id": "ctPijkGrHpN9",
        "outputId": "fe2c97c1-9994-438c-f30c-98e450b660a9"
      },
      "execution_count": 29,
      "outputs": [
        {
          "output_type": "stream",
          "name": "stdout",
          "text": [
            "[1, 2, 3, 4, 5, 6, 7, 8, 9, 11, 10]\n"
          ]
        }
      ]
    },
    {
      "cell_type": "markdown",
      "source": [
        "# 4. Write a Python program to reverse the order of the items in the array. Original array: numbers = [1, 2, 3, 4, 5]\n"
      ],
      "metadata": {
        "id": "jjFbq3-OHp81"
      }
    },
    {
      "cell_type": "code",
      "source": [
        "Numbers = [1,2,3,4,5]\n",
        "Numbers.reverse()\n",
        "print(Numbers)"
      ],
      "metadata": {
        "colab": {
          "base_uri": "https://localhost:8080/"
        },
        "id": "nT9h-j_-Huhe",
        "outputId": "5478ae82-b7f9-4e4e-a416-e3f69099c8c7"
      },
      "execution_count": 7,
      "outputs": [
        {
          "output_type": "stream",
          "name": "stdout",
          "text": [
            "[5, 4, 3, 2, 1]\n"
          ]
        }
      ]
    },
    {
      "cell_type": "markdown",
      "source": [
        "# 5. Let A be an array of size n ≥ 2 containing integers from 1 to n−1, inclusive, with exactly one repeated. Create an algorithm for finding the integer in A that is repeated.\n"
      ],
      "metadata": {
        "id": "DRxdMIL7Hu2G"
      }
    },
    {
      "cell_type": "code",
      "source": [
        "arr = array(\"I\",[1,2,2,3])\n",
        "arr2 = []\n",
        "\n",
        "for I in arr:\n",
        "  if I not in arr2:\n",
        "    arr2.append(I)\n",
        "  else:\n",
        "    print(\"Duplicated number:\", I)"
      ],
      "metadata": {
        "colab": {
          "base_uri": "https://localhost:8080/"
        },
        "id": "CRYwR2F8Hxxe",
        "outputId": "08765f41-b80e-44ec-c62a-32e8b9dceaee"
      },
      "execution_count": 37,
      "outputs": [
        {
          "output_type": "stream",
          "name": "stdout",
          "text": [
            "Duplicated number: 2\n"
          ]
        }
      ]
    }
  ]
}