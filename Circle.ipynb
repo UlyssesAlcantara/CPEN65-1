{
  "nbformat": 4,
  "nbformat_minor": 0,
  "metadata": {
    "colab": {
      "provenance": [],
      "collapsed_sections": [],
      "authorship_tag": "ABX9TyOOUF3XOJVNugIYskYGcs5p",
      "include_colab_link": true
    },
    "kernelspec": {
      "name": "python3",
      "display_name": "Python 3"
    },
    "language_info": {
      "name": "python"
    }
  },
  "cells": [
    {
      "cell_type": "markdown",
      "metadata": {
        "id": "view-in-github",
        "colab_type": "text"
      },
      "source": [
        "<a href=\"https://colab.research.google.com/github/UlyssesAlcantara/CPEN65-1/blob/main/Circle.ipynb\" target=\"_parent\"><img src=\"https://colab.research.google.com/assets/colab-badge.svg\" alt=\"Open In Colab\"/></a>"
      ]
    },
    {
      "cell_type": "code",
      "execution_count": 13,
      "metadata": {
        "id": "Ros1iRIsdR69",
        "colab": {
          "base_uri": "https://localhost:8080/"
        },
        "outputId": "880cb0a1-17f6-4a5a-81f1-76e220df0222"
      },
      "outputs": [
        {
          "output_type": "stream",
          "name": "stdout",
          "text": [
            "value:4\n",
            "what unit did you use? (d) diameter or (r) radius:5\n",
            "12.57\n"
          ]
        }
      ],
      "source": [
        "import math\n",
        "\n",
        "user = float(input(\"value:\"))\n",
        "unit = input(\"what unit did you use? (d) diameter or (r) radius:\").lower()\n",
        "\n",
        "\n",
        "class circle:\n",
        "\n",
        "  def Calculate_area(self):\n",
        "    if unit == \"r\":\n",
        "      a1 = round(math.pi * user ** 2,2)\n",
        "      print(a1)\n",
        "\n",
        "    else:\n",
        "      a2 =  round((math.pi * user ** 2) / 4,2)\n",
        "      print(a2)\n",
        "\n",
        "point = circle\n",
        "point.Calculate_area(0)      "
      ]
    }
  ]
}