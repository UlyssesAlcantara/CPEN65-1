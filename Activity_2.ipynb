{
  "cells": [
    {
      "cell_type": "markdown",
      "metadata": {
        "id": "view-in-github",
        "colab_type": "text"
      },
      "source": [
        "<a href=\"https://colab.research.google.com/github/UlyssesAlcantara/CPEN65-1/blob/main/Activity_2.ipynb\" target=\"_parent\"><img src=\"https://colab.research.google.com/assets/colab-badge.svg\" alt=\"Open In Colab\"/></a>"
      ]
    },
    {
      "cell_type": "markdown",
      "metadata": {
        "id": "QYMxBqPwuExg"
      },
      "source": [
        "**Exercise **\n",
        "1. Create a python program that used Array\n",
        "2. Insert each character of your full name and display each character of your full name in reverse order\n"
      ]
    },
    {
      "cell_type": "code",
      "execution_count": 5,
      "metadata": {
        "colab": {
          "base_uri": "https://localhost:8080/"
        },
        "id": "aUsdmLEuueyH",
        "outputId": "a8cb4bc2-b4c4-4cab-f574-7b8ad19c8549"
      },
      "outputs": [
        {
          "output_type": "stream",
          "name": "stdout",
          "text": [
            "Full name reverse: A R A T N A C L A S E S S Y L U\n",
            "A R A T N A C L A S E S S Y L U\n"
          ]
        }
      ],
      "source": [
        "Letter=[\"U\",\"L\",\"Y\",\"S\",\"S\",\"E\",\"S\",\"A\",\"L\",\"C\",\"A\",\"N\",\"T\",\"A\",\"R\",\"A\"]\n",
        "Q=Letter[0]\n",
        "W=Letter[1]\n",
        "E=Letter[2]\n",
        "R=Letter[3]\n",
        "T=Letter[4]\n",
        "Y=Letter[5]\n",
        "U=Letter[6]\n",
        "I=Letter[7]\n",
        "O=Letter[8]\n",
        "A=Letter[9]\n",
        "S=Letter[10]\n",
        "D=Letter[11]\n",
        "F=Letter[12]\n",
        "G=Letter[13]\n",
        "H=Letter[14]\n",
        "J=Letter[15]\n",
        "\n",
        "Letter.reverse()\n",
        "print(\"Full name reverse:\",*Letter)\n",
        "\n",
        "print(J,H,G,F,D,S,A,O,I,U,Y,T,R,E,W,Q)\n",
        "\n"
      ]
    }
  ],
  "metadata": {
    "colab": {
      "provenance": [],
      "authorship_tag": "ABX9TyOt1/dg0iXEgP7La6smMt5O",
      "include_colab_link": true
    },
    "kernelspec": {
      "display_name": "Python 3",
      "name": "python3"
    },
    "language_info": {
      "name": "python"
    }
  },
  "nbformat": 4,
  "nbformat_minor": 0
}